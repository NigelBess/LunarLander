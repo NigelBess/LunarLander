{
 "cells": [
  {
   "cell_type": "markdown",
   "metadata": {},
   "source": [
    "First we will import packages\n"
   ]
  },
  {
   "cell_type": "code",
   "execution_count": 129,
   "metadata": {},
   "outputs": [],
   "source": [
    "\n",
    "\n",
    "import gymnasium as gym\n",
    "import numpy as np\n",
    "import matplotlib.pyplot as plt\n",
    "from typing import List\n",
    "import torch\n",
    "import torch.nn as nn\n",
    "from IPython import display\n",
    "import random\n",
    "from NeuralNetUtils import RawData, NeuralNetwork, DataSet\n",
    "import NeuralNetUtils as nnu\n",
    "%matplotlib inline\n"
   ]
  },
  {
   "cell_type": "markdown",
   "metadata": {},
   "source": [
    "Setup the environment. We will train a model to play the Lunar-Lander-V2 environment from the gym library."
   ]
  },
  {
   "cell_type": "code",
   "execution_count": 130,
   "metadata": {},
   "outputs": [
    {
     "data": {
      "image/png": "[encoded data removed]",
      "text/plain": [
       "<Figure size 640x480 with 1 Axes>"
      ]
     },
     "metadata": {},
     "output_type": "display_data"
    }
   ],
   "source": [
    "GAME_NAME = 'LunarLander-v3'\n",
    "env = gym.make(GAME_NAME, render_mode='rgb_array')\n",
    "state = env.reset()\n",
    "fig, ax = plt.subplots()\n",
    "\n",
    "def RenderFrame(env,envState=None):\n",
    "    ax.clear()  # Clear the previous image\n",
    "    arr = env.render()\n",
    "    ax.imshow(arr)\n",
    "    def DisplayData():\n",
    "        if envState is None: return\n",
    "        ax.text(1,1,F\"(X, Y): ({envState.x}, {envState.y})\")\n",
    "    DisplayData()\n",
    "    display.display(fig)  # Display the figure object\n",
    "    display.clear_output(wait=True)  # Clear the output for the next frame\n",
    "    \n",
    "\n",
    "\n",
    "\n",
    "\n",
    "\n",
    "\n",
    "RenderFrame(env)\n",
    "\n"
   ]
  },
  {
   "cell_type": "markdown",
   "metadata": {},
   "source": [
    "Let's get an insight into our environment"
   ]
  },
  {
   "cell_type": "code",
   "execution_count": 131,
   "metadata": {},
   "outputs": [
    {
     "name": "stdout",
     "output_type": "stream",
     "text": [
      "Action Space: Discrete(4)\n",
      "Observation Space: Box([ -2.5        -2.5       -10.        -10.         -6.2831855 -10.\n",
      "  -0.         -0.       ], [ 2.5        2.5       10.        10.         6.2831855 10.\n",
      "  1.         1.       ], (8,), float32)\n",
      "Max Episode Steps: 1000\n",
      "Nondeterministic: False\n",
      "Reward Threshold: 200\n"
     ]
    }
   ],
   "source": [
    "def PrintEnvironmentSpecs(environmentName: str):\n",
    "    env = gym.make(environmentName)\n",
    "    spec = gym.spec(environmentName)\n",
    "    print(f\"Action Space: {env.action_space}\")\n",
    "    print(f\"Observation Space: {env.observation_space}\")\n",
    "    print(f\"Max Episode Steps: {spec.max_episode_steps}\")\n",
    "    print(f\"Nondeterministic: {spec.nondeterministic}\")\n",
    "    print(f\"Reward Threshold: {spec.reward_threshold}\")\n",
    "\n",
    "PrintEnvironmentSpecs(GAME_NAME)"
   ]
  },
  {
   "cell_type": "markdown",
   "metadata": {},
   "source": [
    "Using this info, lets create a data object to store environment data in a more human-readable format"
   ]
  },
  {
   "cell_type": "code",
   "execution_count": 132,
   "metadata": {},
   "outputs": [],
   "source": [
    "class EnvironmentState:\n",
    "    def __init__(self,state):\n",
    "        coord = state[0]\n",
    "        self.x = coord[0]\n",
    "        self.y = coord[1]\n",
    "        self.x_dot = coord[2]\n",
    "        self.y_dot = coord[3]\n",
    "        self.theta = coord[4]\n",
    "        self.theta_dot = coord[5]\n",
    "        self.leftLegTouching = int(coord[6])\n",
    "        self.rightLegTouching = int(coord[7])\n",
    "        reward = 0\n",
    "        isDone = False\n",
    "        if len(state)>2:\n",
    "            reward = state[1]\n",
    "            isDone = state[2] or state[3]\n",
    "        self.reward = reward\n",
    "        self.isDone = isDone \n",
    "    \n",
    "    def __repr__(self):\n",
    "        lines = [\n",
    "            f\"(x, y): ({self.x}, {self.y})\",\n",
    "            f\"(ẋ, ẏ): ({self.x_dot}, {self.y_dot})\",\n",
    "            f\"θ: {self.theta}\",\n",
    "            f\"dθ/dt: {self.theta_dot}\",\n",
    "            f\"Legs touching (L,R): ({self.leftLegTouching}, {self.rightLegTouching})\",\n",
    "            f\" Reward: {self.reward}\",\n",
    "            f\" Done: {self.isDone}\",\n",
    "        ]\n",
    "        return \"\\n\".join(lines,)\n",
    "\n",
    "    def toTensor(self) -> torch.Tensor:\n",
    "        return torch.tensor(self.toList())\n",
    "    \n",
    "    def toArray(self) -> np.array:\n",
    "        return np.array(self.toList())\n",
    "    \n",
    "    def toList(self) -> List[float]:\n",
    "        return [self.x, self.y, self.x_dot, self.y_dot, self.theta, self.theta_dot, self.leftLegTouching, self.rightLegTouching]"
   ]
  },
  {
   "cell_type": "markdown",
   "metadata": {},
   "source": [
    "Lets take a look at the model's observation"
   ]
  },
  {
   "cell_type": "code",
   "execution_count": 133,
   "metadata": {},
   "outputs": [
    {
     "name": "stdout",
     "output_type": "stream",
     "text": [
      "(array([-0.00481272,  1.4124126 , -0.48749337,  0.06632425,  0.00558352,\n",
      "        0.11042438,  0.        ,  0.        ], dtype=float32), {})\n",
      "2\n",
      "(x, y): (-0.004812717437744141, 1.4124126434326172)\n",
      "(ẋ, ẏ): (-0.4874933660030365, 0.06632424890995026)\n",
      "θ: 0.00558351818472147\n",
      "dθ/dt: 0.11042437702417374\n",
      "Legs touching (L,R): (0, 0)\n",
      " Reward: 0\n",
      " Done: False\n"
     ]
    }
   ],
   "source": [
    "print(state)\n",
    "print(len(state))\n",
    "envState = EnvironmentState(state)\n",
    "\n",
    "print(envState)"
   ]
  },
  {
   "cell_type": "markdown",
   "metadata": {},
   "source": [
    "And lets run a quick iteration of the game, watching the state to make sure everything is working well"
   ]
  },
  {
   "cell_type": "code",
   "execution_count": 134,
   "metadata": {},
   "outputs": [],
   "source": [
    "playAnimation = False\n",
    "if playAnimation:#Change to true/false to play/skip animation\n",
    "    envState = EnvironmentState(env.reset())\n",
    "    while not envState.isDone:\n",
    "        envState = EnvironmentState(env.step(0))\n",
    "        RenderFrame(env,envState)\n"
   ]
  },
  {
   "cell_type": "markdown",
   "metadata": {},
   "source": [
    "Now we'll make a class for the model"
   ]
  },
  {
   "cell_type": "code",
   "execution_count": 135,
   "metadata": {},
   "outputs": [],
   "source": [
    "  \n",
    "\n",
    "class Model:\n",
    "\n",
    "    def __init__(self, epsilon : float, gamma : float, network : NeuralNetwork):\n",
    "        self.epsilon = epsilon\n",
    "        self.network = network\n",
    "        self.gamma = gamma\n",
    "    \n",
    "    def CalculateAllQ(self, state: EnvironmentState) -> List[float]: #returns estimated Q for each action possibility\n",
    "        tensor = self.network.forward(state.toTensor())\n",
    "        return nnu.convertToNumpy(tensor)\n",
    "    \n",
    "    def GetDecision(self, state: EnvironmentState) -> List[float]: #returns a list of all zeros except for a single 1 for the chosen decision\n",
    "        allQ = self.CalculateAllQ(state)\n",
    "        idx = np.argmax(allQ)\n",
    "\n",
    "        rand = random.uniform(0,1)\n",
    "        if rand < self.epsilon:\n",
    "            idx = random.randint(0, len(allQ) - 1)\n",
    "\n",
    "        action = np.zeros(len(allQ))\n",
    "        action[idx] = 1\n",
    "        return action.astype(np.float32)\n",
    "    \n",
    "    def convertData(self, data : List[RawData[EnvironmentState]]) -> DataSet:\n",
    "        rowCount = len(data)\n",
    "        firstRow = data[0].State\n",
    "        firstRowPredictions = self.CalculateAllQ(firstRow)\n",
    "        X = np.zeros((rowCount,len(firstRow.toList())))\n",
    "        Y = np.zeros((rowCount,len(firstRowPredictions)))\n",
    "\n",
    "        for (i,row) in  enumerate(data):\n",
    "            x = row.State.toArray()\n",
    "            qPrime = self.CalculateAllQ(row.NextState)\n",
    "            q = self.gamma * qPrime + row.Reward\n",
    "            X[i] = x\n",
    "            Y[i] = q\n",
    "        return DataSet.buildFromNumpy(X,Y)\n",
    "    \n",
    "    def Train(self, data : List[RawData], loss, trainingParams):\n",
    "        dataSet = self.convertData(data)\n",
    "        nnu.trainModel([dataSet],self.network,loss, trainingParams)\n",
    "        \n"
   ]
  },
  {
   "cell_type": "markdown",
   "metadata": {},
   "source": [
    "Now lets define a reward function based on the environment state"
   ]
  },
  {
   "cell_type": "code",
   "execution_count": 136,
   "metadata": {},
   "outputs": [],
   "source": [
    "def Reward(state:EnvironmentState) -> float:\n",
    "    return state.reward#for now just return the built-in reward function"
   ]
  },
  {
   "cell_type": "markdown",
   "metadata": {},
   "source": [
    "Lets define the training function"
   ]
  },
  {
   "cell_type": "code",
   "execution_count": 137,
   "metadata": {},
   "outputs": [],
   "source": [
    "\n",
    "def GetTrainingDataBatch(model : Model, batchSize : int):\n",
    "    data : List[RawData] = []\n",
    "    state : EnvironmentState = None\n",
    "    for i in range(batchSize):\n",
    "        if state is None or state.isDone:\n",
    "            state = EnvironmentState(env.reset())\n",
    "        reward = Reward(state)\n",
    "        action = model.GetDecision(state)\n",
    "        nextState = EnvironmentState(env.step(np.argmax(action)))\n",
    "        dataPoint: RawData = RawData(state,action,reward,nextState)\n",
    "        data.append(dataPoint)\n",
    "        state = nextState\n",
    "    return data\n",
    "    \n",
    "\n"
   ]
  },
  {
   "cell_type": "markdown",
   "metadata": {},
   "source": [
    "And train the model!"
   ]
  },
  {
   "cell_type": "code",
   "execution_count": 138,
   "metadata": {},
   "outputs": [
    {
     "ename": "TypeError",
     "evalue": "DataSet.__init__() takes 3 positional arguments but 4 were given",
     "output_type": "error",
     "traceback": [
      "\u001b[1;31m---------------------------------------------------------------------------\u001b[0m",
      "\u001b[1;31mTypeError\u001b[0m                                 Traceback (most recent call last)",
      "Cell \u001b[1;32mIn[138], line 17\u001b[0m\n\u001b[0;32m     15\u001b[0m \u001b[38;5;28;01mfor\u001b[39;00m i \u001b[38;5;129;01min\u001b[39;00m \u001b[38;5;28mrange\u001b[39m (EPISODES):\n\u001b[0;32m     16\u001b[0m     data \u001b[38;5;241m=\u001b[39m GetTrainingDataBatch(model, BATCH_SIZE)\n\u001b[1;32m---> 17\u001b[0m     \u001b[43mmodel\u001b[49m\u001b[38;5;241;43m.\u001b[39;49m\u001b[43mTrain\u001b[49m\u001b[43m(\u001b[49m\u001b[43mdata\u001b[49m\u001b[43m,\u001b[49m\u001b[43mloss\u001b[49m\u001b[43m,\u001b[49m\u001b[43m \u001b[49m\u001b[43mtrainingParams\u001b[49m\u001b[43m)\u001b[49m\n",
      "Cell \u001b[1;32mIn[135], line 40\u001b[0m, in \u001b[0;36mModel.Train\u001b[1;34m(self, data, loss, trainingParams)\u001b[0m\n\u001b[0;32m     39\u001b[0m \u001b[38;5;28;01mdef\u001b[39;00m \u001b[38;5;21mTrain\u001b[39m(\u001b[38;5;28mself\u001b[39m, data : List[RawData], loss, trainingParams):\n\u001b[1;32m---> 40\u001b[0m     dataSet \u001b[38;5;241m=\u001b[39m \u001b[38;5;28;43mself\u001b[39;49m\u001b[38;5;241;43m.\u001b[39;49m\u001b[43mconvertData\u001b[49m\u001b[43m(\u001b[49m\u001b[43mdata\u001b[49m\u001b[43m)\u001b[49m\n\u001b[0;32m     41\u001b[0m     nnu\u001b[38;5;241m.\u001b[39mtrainModel([dataSet],\u001b[38;5;28mself\u001b[39m\u001b[38;5;241m.\u001b[39mnetwork,loss, trainingParams)\n",
      "Cell \u001b[1;32mIn[135], line 37\u001b[0m, in \u001b[0;36mModel.convertData\u001b[1;34m(self, data)\u001b[0m\n\u001b[0;32m     35\u001b[0m     X[i] \u001b[38;5;241m=\u001b[39m x\n\u001b[0;32m     36\u001b[0m     Y[i] \u001b[38;5;241m=\u001b[39m q\n\u001b[1;32m---> 37\u001b[0m \u001b[38;5;28;01mreturn\u001b[39;00m \u001b[43mDataSet\u001b[49m\u001b[38;5;241;43m.\u001b[39;49m\u001b[43mbuildFromNumpy\u001b[49m\u001b[43m(\u001b[49m\u001b[43mX\u001b[49m\u001b[43m,\u001b[49m\u001b[43mY\u001b[49m\u001b[43m)\u001b[49m\n",
      "File \u001b[1;32mc:\\Dev\\LunarLander\\NeuralNetUtils.py:138\u001b[0m, in \u001b[0;36mDataSet.buildFromNumpy\u001b[1;34m(X, Y)\u001b[0m\n\u001b[0;32m    135\u001b[0m     \u001b[38;5;28;01mreturn\u001b[39;00m tens\n\u001b[0;32m    137\u001b[0m \u001b[38;5;66;03m#make sure we can run gradient descent on x training data\u001b[39;00m\n\u001b[1;32m--> 138\u001b[0m \u001b[38;5;28;01mreturn\u001b[39;00m \u001b[43mDataSet\u001b[49m\u001b[43m(\u001b[49m\u001b[43mX\u001b[49m\u001b[43m,\u001b[49m\u001b[43m \u001b[49m\u001b[43mY\u001b[49m\u001b[43m,\u001b[49m\u001b[43m \u001b[49m\u001b[43mconvert\u001b[49m\u001b[43m)\u001b[49m\n",
      "\u001b[1;31mTypeError\u001b[0m: DataSet.__init__() takes 3 positional arguments but 4 were given"
     ]
    }
   ],
   "source": [
    "BATCH_SIZE = 1000\n",
    "\n",
    "hiddenLayers = [100,50,2]\n",
    "layers = nnu.buildLayers(hiddenLayers)\n",
    "inputFeatureCount = len(envState.toTensor())\n",
    "network = NeuralNetwork(inputFeatureCount,layers)\n",
    "model = Model(.05,.99,network)\n",
    "trainingParams = nnu.TrainingParams() \n",
    "trainingParams.learningRate = 1e-2\n",
    "trainingParams.regularizationConstant = 1e-2\n",
    "trainingParams.iterations = 600\n",
    "loss = nn.BCELoss()\n",
    "\n",
    "EPISODES = 100\n",
    "for i in range (EPISODES):\n",
    "    data = GetTrainingDataBatch(model, BATCH_SIZE)\n",
    "    model.Train(data,loss, trainingParams)\n",
    "\n",
    "\n"
   ]
  }
 ],
 "metadata": {
  "kernelspec": {
   "display_name": "Python 3",
   "language": "python",
   "name": "python3"
  },
  "language_info": {
   "codemirror_mode": {
    "name": "ipython",
    "version": 3
   },
   "file_extension": ".py",
   "mimetype": "text/x-python",
   "name": "python",
   "nbconvert_exporter": "python",
   "pygments_lexer": "ipython3",
   "version": "3.12.7"
  }
 },
 "nbformat": 4,
 "nbformat_minor": 2
}
