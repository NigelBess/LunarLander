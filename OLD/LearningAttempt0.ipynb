{
 "cells": [
  {
   "cell_type": "markdown",
   "metadata": {},
   "source": [
    "First we will import packages\n"
   ]
  },
  {
   "cell_type": "code",
   "execution_count": 1,
   "metadata": {},
   "outputs": [],
   "source": [
    "\n",
    "\n",
    "import gymnasium as gym\n",
    "import numpy as np\n",
    "from typing import List\n",
    "import torch\n",
    "import torch.nn as nn\n",
    "from IPython import display\n",
    "import random\n",
    "import importlib\n",
    "import NeuralNetUtils as nnu\n",
    "importlib.reload(nnu)\n",
    "from NeuralNetUtils import RawData, NeuralNetwork, DataSet\n",
    "import math\n",
    "\n",
    "%matplotlib inline\n"
   ]
  },
  {
   "cell_type": "markdown",
   "metadata": {},
   "source": [
    "Setup the environment. We will train a model to play the Lunar-Lander-V2 environment from the gym library."
   ]
  },
  {
   "cell_type": "code",
   "execution_count": 2,
   "metadata": {},
   "outputs": [
    {
     "data": {
      "image/png": "[encoded data removed]",
      "text/plain": [
       "<Figure size 640x480 with 1 Axes>"
      ]
     },
     "metadata": {},
     "output_type": "display_data"
    }
   ],
   "source": [
    "GAME_NAME = 'LunarLander-v3'\n",
    "env = gym.make(GAME_NAME, render_mode='rgb_array')\n",
    "state = env.reset()\n",
    "fig, ax = plt.subplots()\n",
    "\n",
    "def RenderFrame(env,envState=None,debugText = None):\n",
    "    ax.clear()  # Clear the previous image\n",
    "    arr = env.render()\n",
    "    ax.imshow(arr)\n",
    "    def DisplayData():\n",
    "        if debugText is not None: ax.text(50,100,debugText, color=\"yellow\")\n",
    "        if envState is not None: ax.text(1,1,F\"(X, Y): ({envState.x}, {envState.y})\")\n",
    "    DisplayData()\n",
    "    display.display(fig)  # Display the figure object\n",
    "    display.clear_output(wait=True)  # Clear the output for the next frame\n",
    "    \n",
    "\n",
    "\n",
    "\n",
    "\n",
    "\n",
    "\n",
    "RenderFrame(env)\n",
    "\n"
   ]
  },
  {
   "cell_type": "markdown",
   "metadata": {},
   "source": [
    "Let's get an insight into our environment"
   ]
  },
  {
   "cell_type": "code",
   "execution_count": 3,
   "metadata": {},
   "outputs": [
    {
     "name": "stdout",
     "output_type": "stream",
     "text": [
      "Action Space: Discrete(4)\n",
      "Observation Space: Box([ -2.5        -2.5       -10.        -10.         -6.2831855 -10.\n",
      "  -0.         -0.       ], [ 2.5        2.5       10.        10.         6.2831855 10.\n",
      "  1.         1.       ], (8,), float32)\n",
      "Max Episode Steps: 1000\n",
      "Nondeterministic: False\n",
      "Reward Threshold: 200\n"
     ]
    }
   ],
   "source": [
    "def PrintEnvironmentSpecs(environmentName: str):\n",
    "    env = gym.make(environmentName)\n",
    "    spec = gym.spec(environmentName)\n",
    "    print(f\"Action Space: {env.action_space}\")\n",
    "    print(f\"Observation Space: {env.observation_space}\")\n",
    "    print(f\"Max Episode Steps: {spec.max_episode_steps}\")\n",
    "    print(f\"Nondeterministic: {spec.nondeterministic}\")\n",
    "    print(f\"Reward Threshold: {spec.reward_threshold}\")\n",
    "\n",
    "PrintEnvironmentSpecs(GAME_NAME)"
   ]
  },
  {
   "cell_type": "markdown",
   "metadata": {},
   "source": [
    "Using this info, lets create a data object to store environment data in a more human-readable format"
   ]
  },
  {
   "cell_type": "code",
   "execution_count": 4,
   "metadata": {},
   "outputs": [],
   "source": [
    "class EnvironmentState:\n",
    "    def __init__(self,state):\n",
    "        coord = state[0]\n",
    "        self.x = coord[0]\n",
    "        self.y = coord[1]\n",
    "        self.x_dot = coord[2]\n",
    "        self.y_dot = coord[3]\n",
    "        self.theta = coord[4]\n",
    "        self.theta_dot = coord[5]\n",
    "        self.leftLegTouching = int(coord[6])\n",
    "        self.rightLegTouching = int(coord[7])\n",
    "        reward = 0\n",
    "        isDone = False\n",
    "        if len(state)>2:\n",
    "            reward = state[1]\n",
    "            isDone = state[2] or state[3]\n",
    "        self.reward = reward\n",
    "        self.isDone = isDone \n",
    "    \n",
    "    def __repr__(self):\n",
    "        lines = [\n",
    "            f\"(x, y): ({self.x}, {self.y})\",\n",
    "            f\"(ẋ, ẏ): ({self.x_dot}, {self.y_dot})\",\n",
    "            f\"θ: {self.theta}\",\n",
    "            f\"dθ/dt: {self.theta_dot}\",\n",
    "            f\"Legs touching (L,R): ({self.leftLegTouching}, {self.rightLegTouching})\",\n",
    "            f\" Reward: {self.reward}\",\n",
    "            f\" Done: {self.isDone}\",\n",
    "        ]\n",
    "        return \"\\n\".join(lines,)\n",
    "\n",
    "    def toTensor(self) -> torch.Tensor:\n",
    "        return nnu.convertToTensor(self.toArray().astype(np.float32))\n",
    "    \n",
    "    def toArray(self) -> np.array:\n",
    "        return np.array(self.toList())\n",
    "    \n",
    "    def toList(self) -> List[float]:\n",
    "        return [self.x, self.y, self.x_dot, self.y_dot, self.theta, self.theta_dot, self.leftLegTouching, self.rightLegTouching]"
   ]
  },
  {
   "cell_type": "markdown",
   "metadata": {},
   "source": [
    "Lets take a look at the model's observation"
   ]
  },
  {
   "cell_type": "code",
   "execution_count": 5,
   "metadata": {},
   "outputs": [
    {
     "name": "stdout",
     "output_type": "stream",
     "text": [
      "(array([ 0.0038516 ,  1.4101452 ,  0.39011472, -0.03443963, -0.00445631,\n",
      "       -0.08836682,  0.        ,  0.        ], dtype=float32), {})\n",
      "2\n",
      "(x, y): (0.003851604415103793, 1.4101451635360718)\n",
      "(ẋ, ẏ): (0.3901147246360779, -0.03443962708115578)\n",
      "θ: -0.004456306807696819\n",
      "dθ/dt: -0.08836682140827179\n",
      "Legs touching (L,R): (0, 0)\n",
      " Reward: 0\n",
      " Done: False\n"
     ]
    }
   ],
   "source": [
    "print(state)\n",
    "print(len(state))\n",
    "envState = EnvironmentState(state)\n",
    "\n",
    "print(envState)"
   ]
  },
  {
   "cell_type": "markdown",
   "metadata": {},
   "source": [
    "And lets run a quick iteration of the game, watching the state to make sure everything is working well"
   ]
  },
  {
   "cell_type": "code",
   "execution_count": 6,
   "metadata": {},
   "outputs": [],
   "source": [
    "playAnimation = False\n",
    "if playAnimation:#Change to true/false to play/skip animation\n",
    "    envState = EnvironmentState(env.reset())\n",
    "    while not envState.isDone:\n",
    "        envState = EnvironmentState(env.step(0))\n",
    "        RenderFrame(env,envState)\n"
   ]
  },
  {
   "cell_type": "markdown",
   "metadata": {},
   "source": [
    "Now we'll make a class for the model"
   ]
  },
  {
   "cell_type": "code",
   "execution_count": 7,
   "metadata": {},
   "outputs": [],
   "source": [
    "  \n",
    "\n",
    "class Model:\n",
    "\n",
    "    def __init__(self, epsilon : float, gamma : float, network : NeuralNetwork):\n",
    "        self.epsilon = epsilon\n",
    "        self.network = network\n",
    "        self.gamma = gamma\n",
    "    \n",
    "    def outputLength(self): return self.network.outputCount()\n",
    "\n",
    "    def CalculateAllQ(self, state: EnvironmentState) -> List[float]: #returns estimated Q for each action possibility\n",
    "        tensor = self.network.forward(state.toTensor())\n",
    "        return nnu.convertToNumpy(tensor)\n",
    "    \n",
    "    def GetDecision(self, state: EnvironmentState) -> List[float]: #returns a list of all zeros except for a single 1 for the chosen decision\n",
    "        allQ = self.CalculateAllQ(state)\n",
    "        idx = np.argmax(allQ)\n",
    "\n",
    "        rand = random.uniform(0,1)\n",
    "        if rand < self.epsilon:\n",
    "            idx = random.randint(0, len(allQ) - 1)\n",
    "\n",
    "        action = np.zeros(len(allQ))\n",
    "        action[idx] = 1\n",
    "        return action.astype(np.float64)\n",
    "    \n",
    "    def convertData(self, data : List[RawData[EnvironmentState]]) -> DataSet:\n",
    "        rowCount = len(data)\n",
    "        firstRow = data[0].State\n",
    "        firstRowPredictions = self.CalculateAllQ(firstRow)\n",
    "        X = np.zeros((rowCount,len(firstRow.toList())))\n",
    "        Y = np.zeros((rowCount,len(firstRowPredictions)))\n",
    "\n",
    "        for (i,row) in  enumerate(data):\n",
    "            state = row.State\n",
    "            x = state.toArray()\n",
    "            q = row.Reward\n",
    "            if not state.isDone:\n",
    "                qPrime = self.CalculateAllQ(row.NextState)\n",
    "                q = self.gamma * qPrime + row.Reward\n",
    "            \n",
    "        X[i] = np.array(x, dtype=np.float32)  # Cast to float32\n",
    "        Y[i] = np.array(q, dtype=np.float32)  # Cast to float32\n",
    "        return DataSet.buildFromNumpy(X,Y)\n",
    "    \n",
    "    \n",
    "    def Train(self, data : List[RawData], loss, trainingParams):\n",
    "        dataSet = self.convertData(data)\n",
    "        nnu.trainModel([dataSet],self.network,loss, trainingParams, False)\n",
    "        \n"
   ]
  },
  {
   "cell_type": "markdown",
   "metadata": {},
   "source": [
    "Now lets define a reward function based on the environment state"
   ]
  },
  {
   "cell_type": "code",
   "execution_count": 8,
   "metadata": {},
   "outputs": [],
   "source": [
    "def Reward(state:EnvironmentState) -> float:\n",
    "    reward = 0\n",
    "    WINVALUE = 1000\n",
    "    CRASHVALUE = -1000\n",
    "    UPRIGHTVALUE = 1\n",
    "    SPEEDVALUE = 100\n",
    "    if state.reward > 0:\n",
    "        reward += WINVALUE\n",
    "    elif state.isDone:\n",
    "        reward += CRASHVALUE\n",
    "    \n",
    "    theta = state.theta\n",
    "    reward += -abs(theta)*UPRIGHTVALUE\n",
    "    return reward"
   ]
  },
  {
   "cell_type": "markdown",
   "metadata": {},
   "source": [
    "Lets define the training function"
   ]
  },
  {
   "cell_type": "code",
   "execution_count": 9,
   "metadata": {},
   "outputs": [],
   "source": [
    "\n",
    "def GetTrainingDataBatch(model : Model, batchSize : int, env : gym.Env):\n",
    "    data : List[RawData] = []\n",
    "    gamesCompleted = 0\n",
    "    state = EnvironmentState(env.step(0))\n",
    "    for i in range(batchSize):\n",
    "        reward = Reward(state)\n",
    "        action = model.GetDecision(state)\n",
    "        nextState =  EnvironmentState(env.step(np.argmax(action)))\n",
    "        if nextState.isDone:\n",
    "            gamesCompleted += 1\n",
    "        dataPoint: RawData = RawData(state,action,reward,nextState)\n",
    "        data.append(dataPoint)\n",
    "        state = nextState\n",
    "\n",
    "        if state is None or state.isDone:\n",
    "            dataPoint: RawData = RawData(state,None,reward,None)\n",
    "            data.append(dataPoint)\n",
    "            state = EnvironmentState(env.reset())\n",
    "    return (data)\n",
    "    \n",
    "def getAverageReward(data : List[RawData]) -> float:\n",
    "    gamesPlayed = 0\n",
    "    totalReward = 0\n",
    "    for row in data:\n",
    "        state = row.State\n",
    "        if state.isDone:\n",
    "            gamesPlayed += 1\n",
    "        totalReward += Reward(state)\n",
    "    if gamesPlayed == 0:\n",
    "        return 0\n",
    "    return totalReward / gamesPlayed\n"
   ]
  },
  {
   "cell_type": "markdown",
   "metadata": {},
   "source": [
    "And train the model!"
   ]
  },
  {
   "cell_type": "code",
   "execution_count": 10,
   "metadata": {},
   "outputs": [
    {
     "name": "stdout",
     "output_type": "stream",
     "text": [
      "[   8. 1000. 1000. 1000.    4.]\n",
      "Running on NVIDIA GeForce GTX 1080\n",
      "[▮▮▮▮▮▮▮▮▮▮▮▮▮▮▮▮▮▯▯▯▯▯▯▯▯▯▯▯▯▯▯▯▯▯▯▯▯▯▯▯]\r"
     ]
    },
    {
     "ename": "KeyboardInterrupt",
     "evalue": "",
     "output_type": "error",
     "traceback": [
      "\u001b[1;31m---------------------------------------------------------------------------\u001b[0m",
      "\u001b[1;31mKeyboardInterrupt\u001b[0m                         Traceback (most recent call last)",
      "Cell \u001b[1;32mIn[10], line 21\u001b[0m\n\u001b[0;32m     19\u001b[0m \u001b[38;5;28;01mfor\u001b[39;00m i \u001b[38;5;129;01min\u001b[39;00m \u001b[38;5;28mrange\u001b[39m(EPISODES):\n\u001b[0;32m     20\u001b[0m     data \u001b[38;5;241m=\u001b[39m GetTrainingDataBatch(model, BATCH_SIZE,env)\n\u001b[1;32m---> 21\u001b[0m     \u001b[43mmodel\u001b[49m\u001b[38;5;241;43m.\u001b[39;49m\u001b[43mTrain\u001b[49m\u001b[43m(\u001b[49m\u001b[43mdata\u001b[49m\u001b[43m,\u001b[49m\u001b[43mloss\u001b[49m\u001b[43m,\u001b[49m\u001b[43m \u001b[49m\u001b[43mtrainingParams\u001b[49m\u001b[43m)\u001b[49m\n\u001b[0;32m     22\u001b[0m     reward[i] \u001b[38;5;241m=\u001b[39m getAverageReward(data)\n\u001b[0;32m     23\u001b[0m     completion \u001b[38;5;241m=\u001b[39m i\u001b[38;5;241m/\u001b[39mEPISODES\n",
      "Cell \u001b[1;32mIn[7], line 48\u001b[0m, in \u001b[0;36mModel.Train\u001b[1;34m(self, data, loss, trainingParams)\u001b[0m\n\u001b[0;32m     46\u001b[0m \u001b[38;5;28;01mdef\u001b[39;00m \u001b[38;5;21mTrain\u001b[39m(\u001b[38;5;28mself\u001b[39m, data : List[RawData], loss, trainingParams):\n\u001b[0;32m     47\u001b[0m     dataSet \u001b[38;5;241m=\u001b[39m \u001b[38;5;28mself\u001b[39m\u001b[38;5;241m.\u001b[39mconvertData(data)\n\u001b[1;32m---> 48\u001b[0m     \u001b[43mnnu\u001b[49m\u001b[38;5;241;43m.\u001b[39;49m\u001b[43mtrainModel\u001b[49m\u001b[43m(\u001b[49m\u001b[43m[\u001b[49m\u001b[43mdataSet\u001b[49m\u001b[43m]\u001b[49m\u001b[43m,\u001b[49m\u001b[38;5;28;43mself\u001b[39;49m\u001b[38;5;241;43m.\u001b[39;49m\u001b[43mnetwork\u001b[49m\u001b[43m,\u001b[49m\u001b[43mloss\u001b[49m\u001b[43m,\u001b[49m\u001b[43m \u001b[49m\u001b[43mtrainingParams\u001b[49m\u001b[43m,\u001b[49m\u001b[43m \u001b[49m\u001b[38;5;28;43;01mFalse\u001b[39;49;00m\u001b[43m)\u001b[49m\n",
      "File \u001b[1;32mc:\\Dev\\LunarLander\\OLD\\NeuralNetUtils.py:255\u001b[0m, in \u001b[0;36mtrainModel\u001b[1;34m(dataSets, model, loss_function, trainingParams, shouldPrint)\u001b[0m\n\u001b[0;32m    252\u001b[0m     \u001b[38;5;28;01mif\u001b[39;00m trainingLoss \u001b[38;5;129;01mis\u001b[39;00m \u001b[38;5;28;01mNone\u001b[39;00m: trainingLoss \u001b[38;5;241m=\u001b[39m l\n\u001b[0;32m    253\u001b[0m     result\u001b[38;5;241m.\u001b[39mloss\u001b[38;5;241m.\u001b[39mappend(l\u001b[38;5;241m.\u001b[39mitem())\n\u001b[1;32m--> 255\u001b[0m \u001b[43mtrainingLoss\u001b[49m\u001b[38;5;241;43m.\u001b[39;49m\u001b[43mbackward\u001b[49m\u001b[43m(\u001b[49m\u001b[43m)\u001b[49m\n\u001b[0;32m    256\u001b[0m optimizer\u001b[38;5;241m.\u001b[39mstep()\n\u001b[0;32m    257\u001b[0m optimizer\u001b[38;5;241m.\u001b[39mzero_grad()\n",
      "File \u001b[1;32m~\\AppData\\Roaming\\Python\\Python312\\site-packages\\torch\\_tensor.py:581\u001b[0m, in \u001b[0;36mTensor.backward\u001b[1;34m(self, gradient, retain_graph, create_graph, inputs)\u001b[0m\n\u001b[0;32m    571\u001b[0m \u001b[38;5;28;01mif\u001b[39;00m has_torch_function_unary(\u001b[38;5;28mself\u001b[39m):\n\u001b[0;32m    572\u001b[0m     \u001b[38;5;28;01mreturn\u001b[39;00m handle_torch_function(\n\u001b[0;32m    573\u001b[0m         Tensor\u001b[38;5;241m.\u001b[39mbackward,\n\u001b[0;32m    574\u001b[0m         (\u001b[38;5;28mself\u001b[39m,),\n\u001b[1;32m   (...)\u001b[0m\n\u001b[0;32m    579\u001b[0m         inputs\u001b[38;5;241m=\u001b[39minputs,\n\u001b[0;32m    580\u001b[0m     )\n\u001b[1;32m--> 581\u001b[0m \u001b[43mtorch\u001b[49m\u001b[38;5;241;43m.\u001b[39;49m\u001b[43mautograd\u001b[49m\u001b[38;5;241;43m.\u001b[39;49m\u001b[43mbackward\u001b[49m\u001b[43m(\u001b[49m\n\u001b[0;32m    582\u001b[0m \u001b[43m    \u001b[49m\u001b[38;5;28;43mself\u001b[39;49m\u001b[43m,\u001b[49m\u001b[43m \u001b[49m\u001b[43mgradient\u001b[49m\u001b[43m,\u001b[49m\u001b[43m \u001b[49m\u001b[43mretain_graph\u001b[49m\u001b[43m,\u001b[49m\u001b[43m \u001b[49m\u001b[43mcreate_graph\u001b[49m\u001b[43m,\u001b[49m\u001b[43m \u001b[49m\u001b[43minputs\u001b[49m\u001b[38;5;241;43m=\u001b[39;49m\u001b[43minputs\u001b[49m\n\u001b[0;32m    583\u001b[0m \u001b[43m\u001b[49m\u001b[43m)\u001b[49m\n",
      "File \u001b[1;32m~\\AppData\\Roaming\\Python\\Python312\\site-packages\\torch\\autograd\\__init__.py:347\u001b[0m, in \u001b[0;36mbackward\u001b[1;34m(tensors, grad_tensors, retain_graph, create_graph, grad_variables, inputs)\u001b[0m\n\u001b[0;32m    342\u001b[0m     retain_graph \u001b[38;5;241m=\u001b[39m create_graph\n\u001b[0;32m    344\u001b[0m \u001b[38;5;66;03m# The reason we repeat the same comment below is that\u001b[39;00m\n\u001b[0;32m    345\u001b[0m \u001b[38;5;66;03m# some Python versions print out the first line of a multi-line function\u001b[39;00m\n\u001b[0;32m    346\u001b[0m \u001b[38;5;66;03m# calls in the traceback and some print out the last line\u001b[39;00m\n\u001b[1;32m--> 347\u001b[0m \u001b[43m_engine_run_backward\u001b[49m\u001b[43m(\u001b[49m\n\u001b[0;32m    348\u001b[0m \u001b[43m    \u001b[49m\u001b[43mtensors\u001b[49m\u001b[43m,\u001b[49m\n\u001b[0;32m    349\u001b[0m \u001b[43m    \u001b[49m\u001b[43mgrad_tensors_\u001b[49m\u001b[43m,\u001b[49m\n\u001b[0;32m    350\u001b[0m \u001b[43m    \u001b[49m\u001b[43mretain_graph\u001b[49m\u001b[43m,\u001b[49m\n\u001b[0;32m    351\u001b[0m \u001b[43m    \u001b[49m\u001b[43mcreate_graph\u001b[49m\u001b[43m,\u001b[49m\n\u001b[0;32m    352\u001b[0m \u001b[43m    \u001b[49m\u001b[43minputs\u001b[49m\u001b[43m,\u001b[49m\n\u001b[0;32m    353\u001b[0m \u001b[43m    \u001b[49m\u001b[43mallow_unreachable\u001b[49m\u001b[38;5;241;43m=\u001b[39;49m\u001b[38;5;28;43;01mTrue\u001b[39;49;00m\u001b[43m,\u001b[49m\n\u001b[0;32m    354\u001b[0m \u001b[43m    \u001b[49m\u001b[43maccumulate_grad\u001b[49m\u001b[38;5;241;43m=\u001b[39;49m\u001b[38;5;28;43;01mTrue\u001b[39;49;00m\u001b[43m,\u001b[49m\n\u001b[0;32m    355\u001b[0m \u001b[43m\u001b[49m\u001b[43m)\u001b[49m\n",
      "File \u001b[1;32m~\\AppData\\Roaming\\Python\\Python312\\site-packages\\torch\\autograd\\graph.py:825\u001b[0m, in \u001b[0;36m_engine_run_backward\u001b[1;34m(t_outputs, *args, **kwargs)\u001b[0m\n\u001b[0;32m    823\u001b[0m     unregister_hooks \u001b[38;5;241m=\u001b[39m _register_logging_hooks_on_whole_graph(t_outputs)\n\u001b[0;32m    824\u001b[0m \u001b[38;5;28;01mtry\u001b[39;00m:\n\u001b[1;32m--> 825\u001b[0m     \u001b[38;5;28;01mreturn\u001b[39;00m \u001b[43mVariable\u001b[49m\u001b[38;5;241;43m.\u001b[39;49m\u001b[43m_execution_engine\u001b[49m\u001b[38;5;241;43m.\u001b[39;49m\u001b[43mrun_backward\u001b[49m\u001b[43m(\u001b[49m\u001b[43m  \u001b[49m\u001b[38;5;66;43;03m# Calls into the C++ engine to run the backward pass\u001b[39;49;00m\n\u001b[0;32m    826\u001b[0m \u001b[43m        \u001b[49m\u001b[43mt_outputs\u001b[49m\u001b[43m,\u001b[49m\u001b[43m \u001b[49m\u001b[38;5;241;43m*\u001b[39;49m\u001b[43margs\u001b[49m\u001b[43m,\u001b[49m\u001b[43m \u001b[49m\u001b[38;5;241;43m*\u001b[39;49m\u001b[38;5;241;43m*\u001b[39;49m\u001b[43mkwargs\u001b[49m\n\u001b[0;32m    827\u001b[0m \u001b[43m    \u001b[49m\u001b[43m)\u001b[49m  \u001b[38;5;66;03m# Calls into the C++ engine to run the backward pass\u001b[39;00m\n\u001b[0;32m    828\u001b[0m \u001b[38;5;28;01mfinally\u001b[39;00m:\n\u001b[0;32m    829\u001b[0m     \u001b[38;5;28;01mif\u001b[39;00m attach_logging_hooks:\n",
      "\u001b[1;31mKeyboardInterrupt\u001b[0m: "
     ]
    }
   ],
   "source": [
    "BATCH_SIZE = 4\n",
    "\n",
    "hiddenLayers = [1000,1000,1000,4]\n",
    "layers = nnu.buildLayers(hiddenLayers)\n",
    "inputFeatureCount = len(envState.toTensor())\n",
    "network = NeuralNetwork(inputFeatureCount,layers)\n",
    "model = Model(.5,.99,network)\n",
    "trainingParams = nnu.TrainingParams() \n",
    "trainingParams.learningRate = 10\n",
    "trainingParams.regularizationConstant = 1e-1\n",
    "trainingParams.iterations = 60\n",
    "loss = nn.CrossEntropyLoss()\n",
    "\n",
    "print(network.shape())\n",
    "\n",
    "EPISODES = 100\n",
    "reward = np.zeros((EPISODES))\n",
    "print(F\"Running on {nnu.getDevice()}\")\n",
    "for i in range(EPISODES):\n",
    "    data = GetTrainingDataBatch(model, BATCH_SIZE,env)\n",
    "    model.Train(data,loss, trainingParams)\n",
    "    reward[i] = getAverageReward(data)\n",
    "    completion = i/EPISODES\n",
    "    nnu.printLoadBar(completion)\n"
   ]
  },
  {
   "cell_type": "markdown",
   "metadata": {},
   "source": [
    "Let's plot the result!"
   ]
  },
  {
   "cell_type": "code",
   "execution_count": 119,
   "metadata": {},
   "outputs": [
    {
     "data": {
      "text/plain": [
       "[<matplotlib.lines.Line2D at 0x242270e4380>]"
      ]
     },
     "execution_count": 119,
     "metadata": {},
     "output_type": "execute_result"
    },
    {
     "data": {
      "image/png": "[encoded data removed]",
      "text/plain": [
       "<Figure size 640x480 with 1 Axes>"
      ]
     },
     "metadata": {},
     "output_type": "display_data"
    }
   ],
   "source": [
    "fig, ax = plt.subplots()\n",
    "ax.clear()  # Clear the previous image\n",
    "ax.plot(range(EPISODES),reward)"
   ]
  },
  {
   "cell_type": "markdown",
   "metadata": {},
   "source": [
    "Let's watch the model fly!"
   ]
  },
  {
   "cell_type": "code",
   "execution_count": 120,
   "metadata": {},
   "outputs": [
    {
     "data": {
      "image/png": "[encoded data removed]",
      "text/plain": [
       "<Figure size 640x480 with 1 Axes>"
      ]
     },
     "metadata": {},
     "output_type": "display_data"
    }
   ],
   "source": [
    "fig, ax = plt.subplots()\n",
    "\n",
    "model.epsilon = 0\n",
    "\n",
    "envState = EnvironmentState(env.reset())\n",
    "while not envState.isDone:\n",
    "    decision = model.GetDecision(envState)\n",
    "    action = np.argmax(decision)    \n",
    "    envState = EnvironmentState(env.step(action))\n",
    "    RenderFrame(env,envState,action)"
   ]
  }
 ],
 "metadata": {
  "kernelspec": {
   "display_name": "Python 3",
   "language": "python",
   "name": "python3"
  },
  "language_info": {
   "codemirror_mode": {
    "name": "ipython",
    "version": 3
   },
   "file_extension": ".py",
   "mimetype": "text/x-python",
   "name": "python",
   "nbconvert_exporter": "python",
   "pygments_lexer": "ipython3",
   "version": "3.12.7"
  }
 },
 "nbformat": 4,
 "nbformat_minor": 2
}
