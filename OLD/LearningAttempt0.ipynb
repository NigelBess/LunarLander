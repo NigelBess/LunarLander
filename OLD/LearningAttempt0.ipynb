{
 "cells": [
  {
   "cell_type": "markdown",
   "metadata": {},
   "source": [
    "First we will import packages\n"
   ]
  },
  {
   "cell_type": "code",
   "execution_count": 121,
   "metadata": {},
   "outputs": [],
   "source": [
    "\n",
    "\n",
    "import gymnasium as gym\n",
    "import numpy as np\n",
    "import matplotlib.pyplot as plt\n",
    "from typing import List\n",
    "import torch\n",
    "import torch.nn as nn\n",
    "from IPython import display\n",
    "import random\n",
    "import importlib\n",
    "import NeuralNetUtils as nnu\n",
    "importlib.reload(nnu)\n",
    "from NeuralNetUtils import RawData, NeuralNetwork, DataSet\n",
    "import math\n",
    "\n",
    "%matplotlib inline\n"
   ]
  },
  {
   "cell_type": "markdown",
   "metadata": {},
   "source": [
    "Setup the environment. We will train a model to play the Lunar-Lander-V2 environment from the gym library."
   ]
  },
  {
   "cell_type": "code",
   "execution_count": 122,
   "metadata": {},
   "outputs": [
    {
     "data": {
      "image/png": "[encoded data removed]",
      "text/plain": [
       "<Figure size 640x480 with 1 Axes>"
      ]
     },
     "metadata": {},
     "output_type": "display_data"
    }
   ],
   "source": [
    "GAME_NAME = 'LunarLander-v3'\n",
    "env = gym.make(GAME_NAME, render_mode='rgb_array')\n",
    "state = env.reset()\n",
    "fig, ax = plt.subplots()\n",
    "\n",
    "def RenderFrame(env,envState=None,debugText = None):\n",
    "    ax.clear()  # Clear the previous image\n",
    "    arr = env.render()\n",
    "    ax.imshow(arr)\n",
    "    def DisplayData():\n",
    "        if debugText is not None: ax.text(50,100,debugText, color=\"yellow\")\n",
    "        if envState is not None: ax.text(1,1,F\"(X, Y): ({envState.x}, {envState.y})\")\n",
    "    DisplayData()\n",
    "    display.display(fig)  # Display the figure object\n",
    "    display.clear_output(wait=True)  # Clear the output for the next frame\n",
    "    \n",
    "\n",
    "\n",
    "\n",
    "\n",
    "\n",
    "\n",
    "RenderFrame(env)\n",
    "\n"
   ]
  },
  {
   "cell_type": "markdown",
   "metadata": {},
   "source": [
    "Let's get an insight into our environment"
   ]
  },
  {
   "cell_type": "code",
   "execution_count": 123,
   "metadata": {},
   "outputs": [
    {
     "name": "stdout",
     "output_type": "stream",
     "text": [
      "Action Space: Discrete(4)\n",
      "Observation Space: Box([ -2.5        -2.5       -10.        -10.         -6.2831855 -10.\n",
      "  -0.         -0.       ], [ 2.5        2.5       10.        10.         6.2831855 10.\n",
      "  1.         1.       ], (8,), float32)\n",
      "Max Episode Steps: 1000\n",
      "Nondeterministic: False\n",
      "Reward Threshold: 200\n"
     ]
    }
   ],
   "source": [
    "def PrintEnvironmentSpecs(environmentName: str):\n",
    "    env = gym.make(environmentName)\n",
    "    spec = gym.spec(environmentName)\n",
    "    print(f\"Action Space: {env.action_space}\")\n",
    "    print(f\"Observation Space: {env.observation_space}\")\n",
    "    print(f\"Max Episode Steps: {spec.max_episode_steps}\")\n",
    "    print(f\"Nondeterministic: {spec.nondeterministic}\")\n",
    "    print(f\"Reward Threshold: {spec.reward_threshold}\")\n",
    "\n",
    "PrintEnvironmentSpecs(GAME_NAME)"
   ]
  },
  {
   "cell_type": "markdown",
   "metadata": {},
   "source": [
    "Using this info, lets create a data object to store environment data in a more human-readable format"
   ]
  },
  {
   "cell_type": "code",
   "execution_count": 124,
   "metadata": {},
   "outputs": [],
   "source": [
    "class EnvironmentState:\n",
    "    def __init__(self,state):\n",
    "        coord = state[0]\n",
    "        self.x = coord[0]\n",
    "        self.y = coord[1]\n",
    "        self.x_dot = coord[2]\n",
    "        self.y_dot = coord[3]\n",
    "        self.theta = coord[4]\n",
    "        self.theta_dot = coord[5]\n",
    "        self.leftLegTouching = int(coord[6])\n",
    "        self.rightLegTouching = int(coord[7])\n",
    "        reward = 0\n",
    "        isDone = False\n",
    "        if len(state)>2:\n",
    "            reward = state[1]\n",
    "            isDone = state[2] or state[3]\n",
    "        self.reward = reward\n",
    "        self.isDone = isDone \n",
    "    \n",
    "    def __repr__(self):\n",
    "        lines = [\n",
    "            f\"(x, y): ({self.x}, {self.y})\",\n",
    "            f\"(ẋ, ẏ): ({self.x_dot}, {self.y_dot})\",\n",
    "            f\"θ: {self.theta}\",\n",
    "            f\"dθ/dt: {self.theta_dot}\",\n",
    "            f\"Legs touching (L,R): ({self.leftLegTouching}, {self.rightLegTouching})\",\n",
    "            f\" Reward: {self.reward}\",\n",
    "            f\" Done: {self.isDone}\",\n",
    "        ]\n",
    "        return \"\\n\".join(lines,)\n",
    "\n",
    "    def toTensor(self) -> torch.Tensor:\n",
    "        return nnu.convertToTensor(self.toArray().astype(np.float32))\n",
    "    \n",
    "    def toArray(self) -> np.array:\n",
    "        return np.array(self.toList())\n",
    "    \n",
    "    def toList(self) -> List[float]:\n",
    "        return [self.x, self.y, self.x_dot, self.y_dot, self.theta, self.theta_dot, self.leftLegTouching, self.rightLegTouching]"
   ]
  },
  {
   "cell_type": "markdown",
   "metadata": {},
   "source": [
    "Lets take a look at the model's observation"
   ]
  },
  {
   "cell_type": "code",
   "execution_count": 125,
   "metadata": {},
   "outputs": [
    {
     "name": "stdout",
     "output_type": "stream",
     "text": [
      "(array([-0.00534134,  1.4018682 , -0.5410397 , -0.402322  ,  0.0061961 ,\n",
      "        0.12255351,  0.        ,  0.        ], dtype=float32), {})\n",
      "2\n",
      "(x, y): (-0.00534133892506361, 1.401868224143982)\n",
      "(ẋ, ẏ): (-0.5410397052764893, -0.402321994304657)\n",
      "θ: 0.006196099799126387\n",
      "dθ/dt: 0.1225535124540329\n",
      "Legs touching (L,R): (0, 0)\n",
      " Reward: 0\n",
      " Done: False\n"
     ]
    }
   ],
   "source": [
    "print(state)\n",
    "print(len(state))\n",
    "envState = EnvironmentState(state)\n",
    "\n",
    "print(envState)"
   ]
  },
  {
   "cell_type": "markdown",
   "metadata": {},
   "source": [
    "And lets run a quick iteration of the game, watching the state to make sure everything is working well"
   ]
  },
  {
   "cell_type": "code",
   "execution_count": 126,
   "metadata": {},
   "outputs": [],
   "source": [
    "playAnimation = False\n",
    "if playAnimation:#Change to true/false to play/skip animation\n",
    "    envState = EnvironmentState(env.reset())\n",
    "    while not envState.isDone:\n",
    "        envState = EnvironmentState(env.step(0))\n",
    "        RenderFrame(env,envState)\n"
   ]
  },
  {
   "cell_type": "markdown",
   "metadata": {},
   "source": [
    "Now we'll make a class for the model"
   ]
  },
  {
   "cell_type": "code",
   "execution_count": 127,
   "metadata": {},
   "outputs": [],
   "source": [
    "  \n",
    "\n",
    "class Model:\n",
    "\n",
    "    def __init__(self, epsilon : float, gamma : float, network : NeuralNetwork):\n",
    "        self.epsilon = epsilon\n",
    "        self.network = network\n",
    "        self.gamma = gamma\n",
    "    \n",
    "    def outputLength(self): return self.network.outputCount()\n",
    "\n",
    "    def CalculateAllQ(self, state: EnvironmentState) -> List[float]: #returns estimated Q for each action possibility\n",
    "        tensor = self.network.forward(state.toTensor())\n",
    "        return nnu.convertToNumpy(tensor)\n",
    "    \n",
    "    def GetDecision(self, state: EnvironmentState) -> List[float]: #returns a list of all zeros except for a single 1 for the chosen decision\n",
    "        allQ = self.CalculateAllQ(state)\n",
    "        idx = np.argmax(allQ)\n",
    "\n",
    "        rand = random.uniform(0,1)\n",
    "        if rand < self.epsilon:\n",
    "            idx = random.randint(0, len(allQ) - 1)\n",
    "\n",
    "        action = np.zeros(len(allQ))\n",
    "        action[idx] = 1\n",
    "        return action.astype(np.float64)\n",
    "    \n",
    "    def convertData(self, data : List[RawData[EnvironmentState]]) -> DataSet:\n",
    "        rowCount = len(data)\n",
    "        firstRow = data[0].State\n",
    "        firstRowPredictions = self.CalculateAllQ(firstRow)\n",
    "        X = np.zeros((rowCount,len(firstRow.toList())))\n",
    "        Y = np.zeros((rowCount,len(firstRowPredictions)))\n",
    "\n",
    "        for (i,row) in  enumerate(data):\n",
    "            state = row.State\n",
    "            x = state.toArray()\n",
    "            q = row.Reward\n",
    "            if not state.isDone:\n",
    "                qPrime = self.CalculateAllQ(row.NextState)\n",
    "                q = self.gamma * qPrime + row.Reward\n",
    "            \n",
    "        X[i] = np.array(x, dtype=np.float32)  # Cast to float32\n",
    "        Y[i] = np.array(q, dtype=np.float32)  # Cast to float32\n",
    "        return DataSet.buildFromNumpy(X,Y)\n",
    "    \n",
    "    \n",
    "    def Train(self, data : List[RawData], loss, trainingParams):\n",
    "        dataSet = self.convertData(data)\n",
    "        nnu.trainModel([dataSet],self.network,loss, trainingParams, False)\n",
    "        \n"
   ]
  },
  {
   "cell_type": "markdown",
   "metadata": {},
   "source": [
    "Now lets define a reward function based on the environment state"
   ]
  },
  {
   "cell_type": "code",
   "execution_count": 128,
   "metadata": {},
   "outputs": [],
   "source": [
    "def Reward(state:EnvironmentState) -> float:\n",
    "    reward = 0\n",
    "    WINVALUE = 1000\n",
    "    CRASHVALUE = -1000\n",
    "    UPRIGHTVALUE = 1\n",
    "    SPEEDVALUE = 100\n",
    "    if state.reward > 0:\n",
    "        reward += WINVALUE\n",
    "    elif state.isDone:\n",
    "        reward += CRASHVALUE\n",
    "    \n",
    "    theta = state.theta\n",
    "    reward += -abs(theta)*UPRIGHTVALUE\n",
    "    return reward"
   ]
  },
  {
   "cell_type": "markdown",
   "metadata": {},
   "source": [
    "Lets define the training function"
   ]
  },
  {
   "cell_type": "code",
   "execution_count": 129,
   "metadata": {},
   "outputs": [],
   "source": [
    "\n",
    "def GetTrainingDataBatch(model : Model, batchSize : int, env : gym.Env):\n",
    "    data : List[RawData] = []\n",
    "    gamesCompleted = 0\n",
    "    state = EnvironmentState(env.step(0))\n",
    "    for i in range(batchSize):\n",
    "        reward = Reward(state)\n",
    "        action = model.GetDecision(state)\n",
    "        nextState =  EnvironmentState(env.step(np.argmax(action)))\n",
    "        if nextState.isDone:\n",
    "            gamesCompleted += 1\n",
    "        dataPoint: RawData = RawData(state,action,reward,nextState)\n",
    "        data.append(dataPoint)\n",
    "        state = nextState\n",
    "\n",
    "        if state is None or state.isDone:\n",
    "            dataPoint: RawData = RawData(state,None,reward,None)\n",
    "            data.append(dataPoint)\n",
    "            state = EnvironmentState(env.reset())\n",
    "    return (data)\n",
    "    \n",
    "def getAverageReward(data : List[RawData]) -> float:\n",
    "    gamesPlayed = 0\n",
    "    totalReward = 0\n",
    "    for row in data:\n",
    "        state = row.State\n",
    "        if state.isDone:\n",
    "            gamesPlayed += 1\n",
    "        totalReward += Reward(state)\n",
    "    if gamesPlayed == 0:\n",
    "        return 0\n",
    "    return totalReward / gamesPlayed\n"
   ]
  },
  {
   "cell_type": "markdown",
   "metadata": {},
   "source": [
    "And train the model!"
   ]
  },
  {
   "cell_type": "code",
   "execution_count": null,
   "metadata": {},
   "outputs": [
    {
     "name": "stdout",
     "output_type": "stream",
     "text": [
      "[   8. 1000. 1000. 1000.    4.]\n",
      "Running on NVIDIA GeForce GTX 1080\n",
      "[▮▮▮▮▮▮▮▮▮▯▯▯▯▯▯]\r"
     ]
    }
   ],
   "source": [
    "BATCH_SIZE = 4\n",
    "\n",
    "hiddenLayers = [1000,1000,1000,4]\n",
    "layers = nnu.buildLayers(hiddenLayers)\n",
    "inputFeatureCount = len(envState.toTensor())\n",
    "network = NeuralNetwork(inputFeatureCount,layers)\n",
    "model = Model(.5,.99,network)\n",
    "trainingParams = nnu.TrainingParams() \n",
    "trainingParams.learningRate = 10\n",
    "trainingParams.regularizationConstant = 1e-1\n",
    "trainingParams.iterations = 60\n",
    "loss = nn.CrossEntropyLoss()\n",
    "\n",
    "print(network.shape())\n",
    "\n",
    "EPISODES = 100\n",
    "reward = np.zeros((EPISODES))\n",
    "print(F\"Running on {nnu.getDevice()}\")\n",
    "for i in range(EPISODES):\n",
    "    data = GetTrainingDataBatch(model, BATCH_SIZE,env)\n",
    "    model.Train(data,loss, trainingParams)\n",
    "    reward[i] = getAverageReward(data)\n",
    "    completion = i/EPISODES\n",
    "    nnu.printLoadBar(completion)\n"
   ]
  },
  {
   "cell_type": "markdown",
   "metadata": {},
   "source": [
    "Let's plot the result!"
   ]
  },
  {
   "cell_type": "code",
   "execution_count": 119,
   "metadata": {},
   "outputs": [
    {
     "data": {
      "text/plain": [
       "[<matplotlib.lines.Line2D at 0x242270e4380>]"
      ]
     },
     "execution_count": 119,
     "metadata": {},
     "output_type": "execute_result"
    },
    {
     "data": {
      "image/png": "[encoded data removed]",
      "text/plain": [
       "<Figure size 640x480 with 1 Axes>"
      ]
     },
     "metadata": {},
     "output_type": "display_data"
    }
   ],
   "source": [
    "fig, ax = plt.subplots()\n",
    "ax.clear()  # Clear the previous image\n",
    "ax.plot(range(EPISODES),reward)"
   ]
  },
  {
   "cell_type": "markdown",
   "metadata": {},
   "source": [
    "Let's watch the model fly!"
   ]
  },
  {
   "cell_type": "code",
   "execution_count": 120,
   "metadata": {},
   "outputs": [
    {
     "data": {
      "image/png": "[encoded data removed]",
      "text/plain": [
       "<Figure size 640x480 with 1 Axes>"
      ]
     },
     "metadata": {},
     "output_type": "display_data"
    }
   ],
   "source": [
    "fig, ax = plt.subplots()\n",
    "\n",
    "model.epsilon = 0\n",
    "\n",
    "envState = EnvironmentState(env.reset())\n",
    "while not envState.isDone:\n",
    "    decision = model.GetDecision(envState)\n",
    "    action = np.argmax(decision)    \n",
    "    envState = EnvironmentState(env.step(action))\n",
    "    RenderFrame(env,envState,action)"
   ]
  }
 ],
 "metadata": {
  "kernelspec": {
   "display_name": "Python 3",
   "language": "python",
   "name": "python3"
  },
  "language_info": {
   "codemirror_mode": {
    "name": "ipython",
    "version": 3
   },
   "file_extension": ".py",
   "mimetype": "text/x-python",
   "name": "python",
   "nbconvert_exporter": "python",
   "pygments_lexer": "ipython3",
   "version": "3.12.7"
  }
 },
 "nbformat": 4,
 "nbformat_minor": 2
}
